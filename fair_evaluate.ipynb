{
 "cells": [
  {
   "cell_type": "code",
   "execution_count": 1,
   "metadata": {},
   "outputs": [],
   "source": [
    "import torch\n",
    "import torch.nn as nn\n",
    "import torch.nn.functional as F\n",
    "import torch.optim as optim\n",
    "from torch.utils.data import TensorDataset, DataLoader\n",
    "\n",
    "import numpy as np\n",
    "import pandas as pd\n",
    "import pickle\n",
    "from collections import defaultdict\n",
    "from sklearn.metrics import roc_auc_score\n",
    "\n",
    "from utils import *\n",
    "from models import *\n",
    "from tqdm import tqdm\n",
    "\n",
    "import scipy.stats as stats\n",
    "\n",
    "import pdb\n",
    "import sys"
   ]
  },
  {
   "cell_type": "markdown",
   "metadata": {},
   "source": [
    "# MovieLens-1M"
   ]
  },
  {
   "cell_type": "code",
   "execution_count": 2,
   "metadata": {},
   "outputs": [],
   "source": [
    "##### load dataset\n",
    "with open('./data/ml-1m/process/process.pkl', 'rb') as f:\n",
    "    train_u2i = pickle.load(f)\n",
    "    train_i2u = pickle.load(f)\n",
    "    test_u2i = pickle.load(f)\n",
    "    test_i2u = pickle.load(f)\n",
    "    train_set = pickle.load(f)\n",
    "    test_set = pickle.load(f)\n",
    "    user_side_features = pickle.load(f)\n",
    "    n_users, n_items = pickle.load(f)"
   ]
  },
  {
   "cell_type": "code",
   "execution_count": 3,
   "metadata": {},
   "outputs": [
    {
     "data": {
      "text/plain": [
       "{'ndcg@10': 0.19585392,\n",
       " 'ndcg@20': 0.2566614,\n",
       " 'ndcg@30': 0.29592615,\n",
       " 'recall@10': 0.14615573,\n",
       " 'recall@20': 0.23236814,\n",
       " 'recall@30': 0.2968886,\n",
       " 'js_dp@10': 0.28856838659246575,\n",
       " 'js_eo@10': 0.35305252788420216,\n",
       " 'js_dp@20': 0.2572996617018822,\n",
       " 'js_eo@20': 0.32072757152760784,\n",
       " 'js_dp@30': 0.24159028259728882,\n",
       " 'js_eo@30': 0.30837526565624523}"
      ]
     },
     "execution_count": 3,
     "metadata": {},
     "output_type": "execute_result"
    }
   ],
   "source": [
    "model = torch.load('./param/saved models/bpr_base.pth', map_location=torch.device('cpu'))\n",
    "user_emb, item_emb = model.forward()\n",
    "user_emb = user_emb.detach().cpu().numpy()\n",
    "item_emb = item_emb.detach().cpu().numpy()\n",
    "\n",
    "ranking_evaluate(\n",
    "    user_emb, item_emb, n_users, n_items, train_u2i, test_u2i, user_side_features['gender'], num_workers=7)"
   ]
  },
  {
   "cell_type": "code",
   "execution_count": 4,
   "metadata": {},
   "outputs": [
    {
     "data": {
      "text/plain": [
       "{'ndcg@10': 0.20383349,\n",
       " 'ndcg@20': 0.26714432,\n",
       " 'ndcg@30': 0.3075723,\n",
       " 'recall@10': 0.15489534,\n",
       " 'recall@20': 0.24494334,\n",
       " 'recall@30': 0.31149277,\n",
       " 'js_dp@10': 0.29360061156592854,\n",
       " 'js_eo@10': 0.3619421310607289,\n",
       " 'js_dp@20': 0.26261299833170976,\n",
       " 'js_eo@20': 0.3325824923561111,\n",
       " 'js_dp@30': 0.24523064940635927,\n",
       " 'js_eo@30': 0.3120269348252359}"
      ]
     },
     "execution_count": 4,
     "metadata": {},
     "output_type": "execute_result"
    }
   ],
   "source": [
    "model = torch.load('./param/saved models/gcn_base.pth', map_location=torch.device('cpu'))\n",
    "user_emb, item_emb = model.forward()\n",
    "user_emb = user_emb.detach().cpu().numpy()\n",
    "item_emb = item_emb.detach().cpu().numpy()\n",
    "\n",
    "ranking_evaluate(\n",
    "    user_emb, item_emb, n_users, n_items, train_u2i, test_u2i, user_side_features['gender'], num_workers=7)"
   ]
  },
  {
   "cell_type": "code",
   "execution_count": 5,
   "metadata": {},
   "outputs": [
    {
     "data": {
      "text/plain": [
       "{'ndcg@10': 0.2033247,\n",
       " 'ndcg@20': 0.26273975,\n",
       " 'ndcg@30': 0.30151314,\n",
       " 'recall@10': 0.15005602,\n",
       " 'recall@20': 0.23359205,\n",
       " 'recall@30': 0.2969611,\n",
       " 'js_dp@10': 0.13481084417264336,\n",
       " 'js_eo@10': 0.2172170838029076,\n",
       " 'js_dp@20': 0.11628169967950905,\n",
       " 'js_eo@20': 0.19960728013829498,\n",
       " 'js_dp@30': 0.10942607195348429,\n",
       " 'js_eo@30': 0.1930899536722704}"
      ]
     },
     "execution_count": 5,
     "metadata": {},
     "output_type": "execute_result"
    }
   ],
   "source": [
    "model = torch.load('./param/saved models/bpr_fairmi.pth', map_location=torch.device('cpu'))\n",
    "user_emb, item_emb = model.forward()\n",
    "user_emb = user_emb.detach().cpu().numpy()\n",
    "item_emb = item_emb.detach().cpu().numpy()\n",
    "\n",
    "ranking_evaluate(\n",
    "    user_emb, item_emb, n_users, n_items, train_u2i, test_u2i, user_side_features['gender'], num_workers=7)"
   ]
  },
  {
   "cell_type": "code",
   "execution_count": 6,
   "metadata": {},
   "outputs": [
    {
     "data": {
      "text/plain": [
       "{'ndcg@10': 0.21287248,\n",
       " 'ndcg@20': 0.2748507,\n",
       " 'ndcg@30': 0.31461164,\n",
       " 'recall@10': 0.15815713,\n",
       " 'recall@20': 0.2460083,\n",
       " 'recall@30': 0.3111779,\n",
       " 'js_dp@10': 0.12822296683822648,\n",
       " 'js_eo@10': 0.2058555013454353,\n",
       " 'js_dp@20': 0.10489844282380131,\n",
       " 'js_eo@20': 0.183450124808413,\n",
       " 'js_dp@30': 0.09893130841754709,\n",
       " 'js_eo@30': 0.18016588066314151}"
      ]
     },
     "execution_count": 6,
     "metadata": {},
     "output_type": "execute_result"
    }
   ],
   "source": [
    "model = torch.load('./param/saved models/gcn_fairmi.pth', map_location=torch.device('cpu'))\n",
    "user_emb, item_emb = model.forward()\n",
    "user_emb = user_emb.detach().cpu().numpy()\n",
    "item_emb = item_emb.detach().cpu().numpy()\n",
    "\n",
    "ranking_evaluate(\n",
    "    user_emb, item_emb, n_users, n_items, train_u2i, test_u2i, user_side_features['gender'], num_workers=7)"
   ]
  },
  {
   "cell_type": "markdown",
   "metadata": {},
   "source": [
    "# LastFM-360K"
   ]
  },
  {
   "cell_type": "code",
   "execution_count": 9,
   "metadata": {},
   "outputs": [],
   "source": [
    "##### load dataset\n",
    "with open('./data/lastfm-360k/process/process.pkl', 'rb') as f:\n",
    "    train_u2i = pickle.load(f)\n",
    "    train_i2u = pickle.load(f)\n",
    "    test_u2i = pickle.load(f)\n",
    "    test_i2u = pickle.load(f)\n",
    "    train_set = pickle.load(f)\n",
    "    test_set = pickle.load(f)\n",
    "    user_side_features = pickle.load(f)\n",
    "    n_users, n_items = pickle.load(f)"
   ]
  },
  {
   "cell_type": "code",
   "execution_count": 15,
   "metadata": {},
   "outputs": [
    {
     "data": {
      "text/plain": [
       "{'ndcg@10': 0.19592367,\n",
       " 'ndcg@20': 0.24499787,\n",
       " 'ndcg@30': 0.2743452,\n",
       " 'recall@10': 0.15642715,\n",
       " 'recall@20': 0.23720641,\n",
       " 'recall@30': 0.29433665,\n",
       " 'js_dp@10': 0.26646315109850083,\n",
       " 'js_eo@10': 0.3345366089868938,\n",
       " 'js_dp@20': 0.248007301145701,\n",
       " 'js_eo@20': 0.3201045769795233,\n",
       " 'js_dp@30': 0.23760693176302145,\n",
       " 'js_eo@30': 0.3122971337452087}"
      ]
     },
     "execution_count": 15,
     "metadata": {},
     "output_type": "execute_result"
    }
   ],
   "source": [
    "model = torch.load('./param/saved models/bpr_base_lastfm.pth', map_location=torch.device('cpu'))\n",
    "user_emb, item_emb = model.forward()\n",
    "user_emb = user_emb.detach().cpu().numpy()\n",
    "item_emb = item_emb.detach().cpu().numpy()\n",
    "\n",
    "ranking_evaluate(\n",
    "    user_emb, item_emb, n_users, n_items, train_u2i, test_u2i, user_side_features['gender'], num_workers=7)"
   ]
  },
  {
   "cell_type": "code",
   "execution_count": 16,
   "metadata": {},
   "outputs": [
    {
     "data": {
      "text/plain": [
       "{'ndcg@10': 0.19741677,\n",
       " 'ndcg@20': 0.24667916,\n",
       " 'ndcg@30': 0.27664053,\n",
       " 'recall@10': 0.15758686,\n",
       " 'recall@20': 0.23847593,\n",
       " 'recall@30': 0.2967423,\n",
       " 'js_dp@10': 0.28495983298349875,\n",
       " 'js_eo@10': 0.3505538787831724,\n",
       " 'js_dp@20': 0.2665529616224485,\n",
       " 'js_eo@20': 0.3325953291945979,\n",
       " 'js_dp@30': 0.2563889041195565,\n",
       " 'js_eo@30': 0.32417302874883885}"
      ]
     },
     "execution_count": 16,
     "metadata": {},
     "output_type": "execute_result"
    }
   ],
   "source": [
    "model = torch.load('./param/saved models/gcn_base_lastfm.pth', map_location=torch.device('cpu'))\n",
    "user_emb, item_emb = model.forward()\n",
    "user_emb = user_emb.detach().cpu().numpy()\n",
    "item_emb = item_emb.detach().cpu().numpy()\n",
    "\n",
    "ranking_evaluate(\n",
    "    user_emb, item_emb, n_users, n_items, train_u2i, test_u2i, user_side_features['gender'], num_workers=7)"
   ]
  },
  {
   "cell_type": "code",
   "execution_count": 17,
   "metadata": {},
   "outputs": [
    {
     "data": {
      "text/plain": [
       "{'ndcg@10': 0.19329678,\n",
       " 'ndcg@20': 0.24097484,\n",
       " 'ndcg@30': 0.27003205,\n",
       " 'recall@10': 0.15354437,\n",
       " 'recall@20': 0.2320693,\n",
       " 'recall@30': 0.28855848,\n",
       " 'js_dp@10': 0.13182756802203713,\n",
       " 'js_eo@10': 0.2405096394841587,\n",
       " 'js_dp@20': 0.12103395053503929,\n",
       " 'js_eo@20': 0.24085392127551802,\n",
       " 'js_dp@30': 0.11536754812292797,\n",
       " 'js_eo@30': 0.2430210497990367}"
      ]
     },
     "execution_count": 17,
     "metadata": {},
     "output_type": "execute_result"
    }
   ],
   "source": [
    "model = torch.load('./param/saved models/bpr_fairmi_lastfm.pth', map_location=torch.device('cpu'))\n",
    "user_emb, item_emb = model.forward()\n",
    "user_emb = user_emb.detach().cpu().numpy()\n",
    "item_emb = item_emb.detach().cpu().numpy()\n",
    "\n",
    "ranking_evaluate(\n",
    "    user_emb, item_emb, n_users, n_items, train_u2i, test_u2i, user_side_features['gender'], num_workers=7)"
   ]
  },
  {
   "cell_type": "code",
   "execution_count": 18,
   "metadata": {},
   "outputs": [
    {
     "data": {
      "text/plain": [
       "{'ndcg@10': 0.19905026,\n",
       " 'ndcg@20': 0.24784224,\n",
       " 'ndcg@30': 0.27752066,\n",
       " 'recall@10': 0.1574824,\n",
       " 'recall@20': 0.23775768,\n",
       " 'recall@30': 0.29557356,\n",
       " 'js_dp@10': 0.13300653756621775,\n",
       " 'js_eo@10': 0.23767458365488853,\n",
       " 'js_dp@20': 0.124527106136763,\n",
       " 'js_eo@20': 0.23874519384789414,\n",
       " 'js_dp@30': 0.11978371243853604,\n",
       " 'js_eo@30': 0.2412714975832591}"
      ]
     },
     "execution_count": 18,
     "metadata": {},
     "output_type": "execute_result"
    }
   ],
   "source": [
    "model = torch.load('./param/saved models/gcn_fairmi_lastfm.pth', map_location=torch.device('cpu'))\n",
    "user_emb, item_emb = model.forward()\n",
    "user_emb = user_emb.detach().cpu().numpy()\n",
    "item_emb = item_emb.detach().cpu().numpy()\n",
    "\n",
    "ranking_evaluate(\n",
    "    user_emb, item_emb, n_users, n_items, train_u2i, test_u2i, user_side_features['gender'], num_workers=7)"
   ]
  }
 ],
 "metadata": {
  "kernelspec": {
   "display_name": "Python 3",
   "language": "python",
   "name": "python3"
  },
  "language_info": {
   "codemirror_mode": {
    "name": "ipython",
    "version": 3
   },
   "file_extension": ".py",
   "mimetype": "text/x-python",
   "name": "python",
   "nbconvert_exporter": "python",
   "pygments_lexer": "ipython3",
   "version": "3.6.9"
  }
 },
 "nbformat": 4,
 "nbformat_minor": 4
}
